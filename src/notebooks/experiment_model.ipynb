{
 "cells": [
  {
   "cell_type": "code",
   "execution_count": 42,
   "metadata": {},
   "outputs": [],
   "source": [
    "import numpy as np\n",
    "from IPython.display import display, HTML\n",
    "import matplotlib.pyplot as plt\n",
    "from collections import defaultdict\n",
    "import pandas as pd\n",
    "from tqdm.auto import trange\n",
    "import seaborn as sns"
   ]
  },
  {
   "cell_type": "code",
   "execution_count": 43,
   "metadata": {},
   "outputs": [],
   "source": [
    "def display_table(table, row_labels, col_labels):\n",
    "    html = \"<table>\"\n",
    "    html += \"<tr><th></th><th>\" + \"</th><th>\".join(col_labels) + \"</th></tr>\"\n",
    "    for i, row in enumerate(table):\n",
    "        html += \"<tr><th>\" + row_labels[i] + \"</th><td>\" + \"</td><td>\".join(map(str, row)) + \"</td></tr>\"\n",
    "    html += \"</table>\"\n",
    "    display(HTML(html))\n",
    "\n",
    "def safelog(vals):\n",
    "    with np.errstate(divide='ignore'):\n",
    "        return np.log(vals)"
   ]
  },
  {
   "attachments": {},
   "cell_type": "markdown",
   "metadata": {},
   "source": [
    "#### 2. Open lexicon model \n"
   ]
  },
  {
   "cell_type": "code",
   "execution_count": 44,
   "metadata": {},
   "outputs": [],
   "source": [
    "class Agent:\n",
    "    def __init__(self, n_words, n_meanings, costs=None, prior=None, alpha=1):\n",
    "        self.lexicons = self.all_binary_arrays(n_words*n_meanings, n_words, n_meanings)\n",
    "        self.lexicons_norm = np.array([self.normalize(lexicon) for lexicon in self.lexicons])\n",
    "        self.lexicon_probs = np.ones(len(self.lexicons)) / len(self.lexicons)\n",
    "        self.alpha = alpha\n",
    "        # self.costs are uniform over the number of words\n",
    "        if costs is not None:\n",
    "            self.costs = costs\n",
    "        else:\n",
    "            self.costs = np.zeros(n_words)\n",
    "        if prior is not None:\n",
    "            self.prior = self.normalize(prior)\n",
    "        else:\n",
    "            self.prior = np.ones(n_meanings) / n_meanings\n",
    "\n",
    "    @staticmethod\n",
    "    def normalize(A):\n",
    "        # if only one dimension do not transpose\n",
    "        if len(A.shape) == 1:\n",
    "            return A / A.sum()\n",
    "        return np.nan_to_num((A.T / A.sum(axis=1)).T)\n",
    "\n",
    "    @staticmethod\n",
    "    def all_binary_arrays(n, n_words, n_meanings):\n",
    "        '''\n",
    "        Generate all possible lexicons of size n\n",
    "        and remove the lexicons with no at least one word \n",
    "        per meaning\n",
    "        '''\n",
    "        arrays =  np.array([list(map(int, list(np.binary_repr(i, width=n_words*n_meanings)))) for i in range(2**n)])\n",
    "        lexicons = arrays.reshape((2**n, n_words, n_meanings))\n",
    "        # sum by column and remove lexicons with no words per meaning\n",
    "        return lexicons[lexicons.sum(axis=1).min(axis=1) > 0]\n",
    "\n",
    "    @staticmethod\n",
    "    def safelog(vals):\n",
    "        with np.errstate(divide='ignore'):\n",
    "            return np.log(vals)\n",
    "\n",
    "    def l_lit(self, A, context):\n",
    "        if self.prior is not None:\n",
    "            return self.normalize(A * self.prior[context])\n",
    "        else:\n",
    "            return self.normalize(A * self.prior)\n",
    "\n",
    "    def s_prag(self, A):\n",
    "        # literal listener, ts the matrix received from the speaker\n",
    "        # subtract C rather than add it to keep the values positive\n",
    "        return self.normalize(np.exp(self.alpha * (safelog(A.T) + self.costs)))\n",
    "\n",
    "    def l_prag(self, A, context):\n",
    "        # literal listener, ts the matrix received from the speaker\n",
    "        if self.prior is not None:\n",
    "            return self.normalize(A.T * self.prior[context])\n",
    "        else:\n",
    "            return self.normalize(A.T * self.prior)\n",
    "\n",
    "    def speaker(self, meaning, context):\n",
    "        # randomly sample one of the lexicon given the probabilities\n",
    "        lexicon = self.lexicons[np.random.choice(len(self.lexicons), p=self.lexicon_probs)]\n",
    "        L_0 = self.l_lit(lexicon, context)\n",
    "        return np.argmax(self.s_prag(L_0)[meaning])\n",
    "\n",
    "    def listener(self, message, int_meaning, context):\n",
    "        # randomly sample one of the lexicon given the probabilities\n",
    "        lexicon = self.lexicons[np.random.choice(len(self.lexicons), p=self.lexicon_probs)]\n",
    "        L_0 = self.l_lit(lexicon, context)\n",
    "        S_P = self.s_prag(L_0)\n",
    "        return np.argmax(self.l_prag(S_P, context)[message])\n",
    "    \n",
    "    def update_lexicon(self, message, meaning):\n",
    "        # for each lexicon, multiply the probability of the message-meanings pair by the probability of the lexicon\n",
    "        # and normalize\n",
    "        # add random noise to avoid 0 probabilities\n",
    "        # self.lexicon_probs = self.normalize(self.lexicon_probs * self.lexicons_norm[:, message, meaning] + np.random.rand(len(self.lexicons)) * 1e-10)\n",
    "        self.lexicon_probs = self.normalize(self.lexicon_probs * self.lexicons_norm[:, message, meaning]) \n",
    "        # * p(meaning|context)\n",
    "    \n",
    "    def show_lexicon(self, idx):\n",
    "        lexicon =  self.lexicons[np.argsort(self.lexicon_probs)[::-1][idx]]\n",
    "        for _ in range(len(self.prior)):\n",
    "            L_0 = self.l_lit(lexicon, _)\n",
    "            S_P = self.s_prag(L_0)\n",
    "            prag_list = self.l_prag(S_P, _)\n",
    "            print(f'Context: {_}')\n",
    "            display_table(np.hstack([np.round(prag_list, 2), self.costs[:, None]]), \n",
    "            [\"s_1\", \"s_2\"], [f'm_{i}' for i in range(3)] + [\"cost\"])"
   ]
  },
  {
   "cell_type": "code",
   "execution_count": 45,
   "metadata": {},
   "outputs": [
    {
     "data": {
      "application/vnd.jupyter.widget-view+json": {
       "model_id": "413029c024e14511a0c3cf2c0a149740",
       "version_major": 2,
       "version_minor": 0
      },
      "text/plain": [
       "  0%|          | 0/1000 [00:00<?, ?it/s]"
      ]
     },
     "metadata": {},
     "output_type": "display_data"
    },
    {
     "name": "stderr",
     "output_type": "stream",
     "text": [
      "/var/folders/1c/pphtjl397rnbdcp94xmwzkqr0000gn/T/ipykernel_28642/2700961387.py:22: RuntimeWarning: invalid value encountered in divide\n",
      "  return np.nan_to_num((A.T / A.sum(axis=1)).T)\n"
     ]
    }
   ],
   "source": [
    "N_MEANINGS = 3\n",
    "PRIOR = np.array([[1, 1, 0], [1, 0, 1]])\n",
    "COSTS = np.array([0, 100])\n",
    "ALPHA = 1\n",
    "\n",
    "posts = []\n",
    "logs_comp = []\n",
    "\n",
    "for tr in trange(1000):\n",
    "    # initalize two agents\n",
    "    agent1 = Agent(n_words = 2, n_meanings = N_MEANINGS, prior = PRIOR, costs = COSTS, alpha = ALPHA)\n",
    "    agent2 = Agent(n_words = 2, n_meanings = N_MEANINGS, prior = PRIOR, costs = COSTS, alpha = ALPHA)\n",
    "    # initialize the context-meaning pairs\n",
    "    context_meanings = {0: [0, 1], 1: [0], 2: [1]}\n",
    "    # logs \n",
    "    logs = defaultdict(dict)\n",
    "    for _ in range(100):\n",
    "        # randomly choose 1 or 0\n",
    "        # sample one integer from 0 to 2\n",
    "        meaning = np.random.randint(0, N_MEANINGS)\n",
    "        # sample context given the integer\n",
    "        context = np.random.choice(context_meanings[meaning])\n",
    "        logs[_] = {'trial': tr, 'context': context, 'meaning': meaning}\n",
    "        \n",
    "        # if iteration is even agent1 speaks, otherwise agent2 speaks\n",
    "        if _ % 2 == 0:\n",
    "            message = agent1.speaker(meaning, context)\n",
    "            meaning_guess = agent2.listener(message, meaning, context)\n",
    "            logs[_]['message'] = message\n",
    "            logs[_]['meaning_guess'] = meaning_guess\n",
    "            if meaning_guess == meaning:\n",
    "                logs[_]['correct'] = True\n",
    "                agent1.update_lexicon(message, meaning)\n",
    "                agent2.update_lexicon(message, meaning)\n",
    "            else:\n",
    "                logs[_]['correct'] = False\n",
    "        else:\n",
    "            message = agent2.speaker(meaning, context)\n",
    "            meaning_guess = agent1.listener(message, meaning, context)  \n",
    "            logs[_]['message'] = message\n",
    "            logs[_]['meaning_guess'] = meaning_guess\n",
    "            if meaning_guess == meaning:\n",
    "                logs[_]['correct'] = True\n",
    "                agent1.update_lexicon(message, meaning)\n",
    "                agent2.update_lexicon(message, meaning)\n",
    "            else:\n",
    "                logs[_]['correct'] = False\n",
    "    logs_comp.append(logs)\n",
    "    posts.append(agent1.lexicon_probs)"
   ]
  },
  {
   "cell_type": "code",
   "execution_count": 46,
   "metadata": {},
   "outputs": [
    {
     "data": {
      "text/plain": [
       "Text(0, 0.5, 'Probability')"
      ]
     },
     "execution_count": 46,
     "metadata": {},
     "output_type": "execute_result"
    },
    {
     "data": {
      "image/png": "[encoded data removed]",
      "text/plain": [
       "<Figure size 1000x500 with 1 Axes>"
      ]
     },
     "metadata": {},
     "output_type": "display_data"
    }
   ],
   "source": [
    "# sum over posts\n",
    "lexicon_probs = np.sum(posts, axis=0)\n",
    "# normalize\n",
    "lexicon_probs = lexicon_probs / lexicon_probs.sum()\n",
    "\n",
    "# plot the posterior distribution of the lexicons\n",
    "plt.figure(figsize=(10, 5))\n",
    "plt.bar(np.arange(len(lexicon_probs)), lexicon_probs)\n",
    "plt.xlabel('Lexicon')\n",
    "plt.ylabel('Probability')"
   ]
  },
  {
   "cell_type": "code",
   "execution_count": 47,
   "metadata": {},
   "outputs": [
    {
     "name": "stdout",
     "output_type": "stream",
     "text": [
      "Context: 0\n"
     ]
    },
    {
     "name": "stderr",
     "output_type": "stream",
     "text": [
      "/var/folders/1c/pphtjl397rnbdcp94xmwzkqr0000gn/T/ipykernel_28642/2700961387.py:22: RuntimeWarning: invalid value encountered in divide\n",
      "  return np.nan_to_num((A.T / A.sum(axis=1)).T)\n"
     ]
    },
    {
     "data": {
      "text/html": [
       "<table><tr><th></th><th>m_0</th><th>m_1</th><th>m_2</th><th>cost</th></tr><tr><th>s_1</th><td>0.0</td><td>1.0</td><td>0.0</td><td>0.0</td></tr><tr><th>s_2</th><td>1.0</td><td>0.0</td><td>0.0</td><td>100.0</td></tr></table>"
      ],
      "text/plain": [
       "<IPython.core.display.HTML object>"
      ]
     },
     "metadata": {},
     "output_type": "display_data"
    },
    {
     "name": "stdout",
     "output_type": "stream",
     "text": [
      "Context: 1\n"
     ]
    },
    {
     "data": {
      "text/html": [
       "<table><tr><th></th><th>m_0</th><th>m_1</th><th>m_2</th><th>cost</th></tr><tr><th>s_1</th><td>0.0</td><td>0.0</td><td>1.0</td><td>0.0</td></tr><tr><th>s_2</th><td>1.0</td><td>0.0</td><td>0.0</td><td>100.0</td></tr></table>"
      ],
      "text/plain": [
       "<IPython.core.display.HTML object>"
      ]
     },
     "metadata": {},
     "output_type": "display_data"
    }
   ],
   "source": [
    "agent2.show_lexicon(0)"
   ]
  },
  {
   "cell_type": "code",
   "execution_count": 48,
   "metadata": {},
   "outputs": [
    {
     "name": "stdout",
     "output_type": "stream",
     "text": [
      "Context: 0\n"
     ]
    },
    {
     "name": "stderr",
     "output_type": "stream",
     "text": [
      "/var/folders/1c/pphtjl397rnbdcp94xmwzkqr0000gn/T/ipykernel_28642/2700961387.py:22: RuntimeWarning: invalid value encountered in divide\n",
      "  return np.nan_to_num((A.T / A.sum(axis=1)).T)\n"
     ]
    },
    {
     "data": {
      "text/html": [
       "<table><tr><th></th><th>m_0</th><th>m_1</th><th>m_2</th><th>cost</th></tr><tr><th>s_1</th><td>0.0</td><td>1.0</td><td>0.0</td><td>0.0</td></tr><tr><th>s_2</th><td>1.0</td><td>0.0</td><td>0.0</td><td>100.0</td></tr></table>"
      ],
      "text/plain": [
       "<IPython.core.display.HTML object>"
      ]
     },
     "metadata": {},
     "output_type": "display_data"
    },
    {
     "name": "stdout",
     "output_type": "stream",
     "text": [
      "Context: 1\n"
     ]
    },
    {
     "data": {
      "text/html": [
       "<table><tr><th></th><th>m_0</th><th>m_1</th><th>m_2</th><th>cost</th></tr><tr><th>s_1</th><td>0.0</td><td>0.0</td><td>1.0</td><td>0.0</td></tr><tr><th>s_2</th><td>1.0</td><td>0.0</td><td>0.0</td><td>100.0</td></tr></table>"
      ],
      "text/plain": [
       "<IPython.core.display.HTML object>"
      ]
     },
     "metadata": {},
     "output_type": "display_data"
    }
   ],
   "source": [
    "agent1.show_lexicon(0)"
   ]
  },
  {
   "cell_type": "code",
   "execution_count": 49,
   "metadata": {},
   "outputs": [],
   "source": [
    "# every combination of context-meaning pair\n",
    "context_meaning_pairs = [(context, meaning) for context in context_meanings for meaning in context_meanings[context]]"
   ]
  },
  {
   "cell_type": "code",
   "execution_count": 50,
   "metadata": {},
   "outputs": [
    {
     "data": {
      "text/plain": [
       "<BarContainer object of 27 artists>"
      ]
     },
     "execution_count": 50,
     "metadata": {},
     "output_type": "execute_result"
    },
    {
     "data": {
      "image/png": "[encoded data removed]",
      "text/plain": [
       "<Figure size 640x480 with 1 Axes>"
      ]
     },
     "metadata": {},
     "output_type": "display_data"
    }
   ],
   "source": [
    "# plot the lexicon probabilities and the indexes\n",
    "plt.bar(np.arange(len(agent1.lexicon_probs)), agent1.lexicon_probs)"
   ]
  },
  {
   "cell_type": "code",
   "execution_count": 51,
   "metadata": {},
   "outputs": [
    {
     "data": {
      "text/plain": [
       "<BarContainer object of 27 artists>"
      ]
     },
     "execution_count": 51,
     "metadata": {},
     "output_type": "execute_result"
    },
    {
     "data": {
      "image/png": "[encoded data removed]",
      "text/plain": [
       "<Figure size 640x480 with 1 Axes>"
      ]
     },
     "metadata": {},
     "output_type": "display_data"
    }
   ],
   "source": [
    "# plot the lexicon probabilities and the indexes\n",
    "plt.bar(np.arange(len(agent2.lexicon_probs)), agent2.lexicon_probs)"
   ]
  },
  {
   "cell_type": "code",
   "execution_count": 52,
   "metadata": {},
   "outputs": [
    {
     "name": "stdout",
     "output_type": "stream",
     "text": [
      "Lexicon probability: 0.9999999999708963\n"
     ]
    },
    {
     "data": {
      "text/html": [
       "<table><tr><th></th><th>m_0</th><th>m_1</th><th>m_2</th><th>cost</th></tr><tr><th>s_1</th><td>1</td><td>1</td><td>1</td><td>0</td></tr><tr><th>s_2</th><td>1</td><td>0</td><td>0</td><td>100</td></tr></table>"
      ],
      "text/plain": [
       "<IPython.core.display.HTML object>"
      ]
     },
     "metadata": {},
     "output_type": "display_data"
    },
    {
     "name": "stdout",
     "output_type": "stream",
     "text": [
      "Lexicon probability: 1.4551915227943337e-11\n"
     ]
    },
    {
     "data": {
      "text/html": [
       "<table><tr><th></th><th>m_0</th><th>m_1</th><th>m_2</th><th>cost</th></tr><tr><th>s_1</th><td>1</td><td>1</td><td>1</td><td>0</td></tr><tr><th>s_2</th><td>1</td><td>0</td><td>1</td><td>100</td></tr></table>"
      ],
      "text/plain": [
       "<IPython.core.display.HTML object>"
      ]
     },
     "metadata": {},
     "output_type": "display_data"
    },
    {
     "name": "stdout",
     "output_type": "stream",
     "text": [
      "Lexicon probability: 1.4551915227943337e-11\n"
     ]
    },
    {
     "data": {
      "text/html": [
       "<table><tr><th></th><th>m_0</th><th>m_1</th><th>m_2</th><th>cost</th></tr><tr><th>s_1</th><td>1</td><td>1</td><td>1</td><td>0</td></tr><tr><th>s_2</th><td>1</td><td>1</td><td>0</td><td>100</td></tr></table>"
      ],
      "text/plain": [
       "<IPython.core.display.HTML object>"
      ]
     },
     "metadata": {},
     "output_type": "display_data"
    },
    {
     "name": "stdout",
     "output_type": "stream",
     "text": [
      "Lexicon probability: 6.66246330518175e-18\n"
     ]
    },
    {
     "data": {
      "text/html": [
       "<table><tr><th></th><th>m_0</th><th>m_1</th><th>m_2</th><th>cost</th></tr><tr><th>s_1</th><td>1</td><td>1</td><td>1</td><td>0</td></tr><tr><th>s_2</th><td>1</td><td>1</td><td>1</td><td>100</td></tr></table>"
      ],
      "text/plain": [
       "<IPython.core.display.HTML object>"
      ]
     },
     "metadata": {},
     "output_type": "display_data"
    }
   ],
   "source": [
    "# display 4 top lexicons\n",
    "for i in np.argsort(agent1.lexicon_probs)[::-1][:4]:\n",
    "    print(\"Lexicon probability: {}\".format(agent1.lexicon_probs[i]))\n",
    "    display_table(np.hstack([agent1.lexicons[i], agent1.costs[:, None]]), [\"s_1\", \"s_2\"], [f'm_{i}' for i in range(N_MEANINGS)] + [\"cost\"])"
   ]
  },
  {
   "cell_type": "code",
   "execution_count": 53,
   "metadata": {},
   "outputs": [
    {
     "name": "stdout",
     "output_type": "stream",
     "text": [
      "Lexicon probability: 0.9999999999708963\n"
     ]
    },
    {
     "data": {
      "text/html": [
       "<table><tr><th></th><th>m_1</th><th>m_2</th><th>m_3</th><th>C</th></tr><tr><th>s_1</th><td>1</td><td>1</td><td>1</td><td>0</td></tr><tr><th>s_2</th><td>1</td><td>0</td><td>0</td><td>100</td></tr></table>"
      ],
      "text/plain": [
       "<IPython.core.display.HTML object>"
      ]
     },
     "metadata": {},
     "output_type": "display_data"
    },
    {
     "name": "stdout",
     "output_type": "stream",
     "text": [
      "Lexicon probability: 1.4551915227943337e-11\n"
     ]
    },
    {
     "data": {
      "text/html": [
       "<table><tr><th></th><th>m_1</th><th>m_2</th><th>m_3</th><th>C</th></tr><tr><th>s_1</th><td>1</td><td>1</td><td>1</td><td>0</td></tr><tr><th>s_2</th><td>1</td><td>0</td><td>1</td><td>100</td></tr></table>"
      ],
      "text/plain": [
       "<IPython.core.display.HTML object>"
      ]
     },
     "metadata": {},
     "output_type": "display_data"
    },
    {
     "name": "stdout",
     "output_type": "stream",
     "text": [
      "Lexicon probability: 1.4551915227943337e-11\n"
     ]
    },
    {
     "data": {
      "text/html": [
       "<table><tr><th></th><th>m_1</th><th>m_2</th><th>m_3</th><th>C</th></tr><tr><th>s_1</th><td>1</td><td>1</td><td>1</td><td>0</td></tr><tr><th>s_2</th><td>1</td><td>1</td><td>0</td><td>100</td></tr></table>"
      ],
      "text/plain": [
       "<IPython.core.display.HTML object>"
      ]
     },
     "metadata": {},
     "output_type": "display_data"
    },
    {
     "name": "stdout",
     "output_type": "stream",
     "text": [
      "Lexicon probability: 6.66246330518175e-18\n"
     ]
    },
    {
     "data": {
      "text/html": [
       "<table><tr><th></th><th>m_1</th><th>m_2</th><th>m_3</th><th>C</th></tr><tr><th>s_1</th><td>1</td><td>1</td><td>1</td><td>0</td></tr><tr><th>s_2</th><td>1</td><td>1</td><td>1</td><td>100</td></tr></table>"
      ],
      "text/plain": [
       "<IPython.core.display.HTML object>"
      ]
     },
     "metadata": {},
     "output_type": "display_data"
    }
   ],
   "source": [
    "# display 4 top lexicons\n",
    "for i in np.argsort(agent2.lexicon_probs)[::-1][:4]:\n",
    "    print(\"Lexicon probability: {}\".format(agent2.lexicon_probs[i]))\n",
    "    display_table(np.hstack([agent2.lexicons[i], agent2.costs[:, None]]), \n",
    "    [\"s_1\", \"s_2\"], [\"m_1\", \"m_2\", \"m_3\", \"C\"])"
   ]
  },
  {
   "cell_type": "code",
   "execution_count": 54,
   "metadata": {},
   "outputs": [],
   "source": [
    "logs = pd.DataFrame(logs_comp[15]).T"
   ]
  },
  {
   "cell_type": "code",
   "execution_count": 55,
   "metadata": {},
   "outputs": [],
   "source": [
    "logs['cent'] = logs.index // 5 + 1"
   ]
  },
  {
   "cell_type": "code",
   "execution_count": 56,
   "metadata": {},
   "outputs": [
    {
     "data": {
      "image/png": "[encoded data removed]",
      "text/plain": [
       "<Figure size 640x480 with 1 Axes>"
      ]
     },
     "metadata": {},
     "output_type": "display_data"
    }
   ],
   "source": [
    "# group by cent and message\n",
    "logs_grouped = logs.groupby(['cent', 'message']).mean()\n",
    "logs_grouped.reset_index(inplace=True)\n",
    "result = logs_grouped[['cent', 'message', 'correct']]\n",
    "\n",
    "# plot the accuracy\n",
    "plt.plot(result[result['message'] == 0]['correct'], label='short')\n",
    "plt.plot(result[result['message'] == 1]['correct'], label='long')\n",
    "plt.legend()\n",
    "plt.grid()"
   ]
  },
  {
   "cell_type": "code",
   "execution_count": 57,
   "metadata": {},
   "outputs": [],
   "source": [
    "# rename message as short if 0 and long if 1\n",
    "logs['message_length'] = logs['message'].apply(lambda x: 'short' if x == 0 else 'long')\n",
    "logs['meaning'] = logs['meaning'].apply(lambda x: f'm_{x}')"
   ]
  },
  {
   "cell_type": "code",
   "execution_count": 58,
   "metadata": {},
   "outputs": [
    {
     "data": {
      "text/plain": [
       "<AxesSubplot: xlabel='meaning', ylabel='Count'>"
      ]
     },
     "execution_count": 58,
     "metadata": {},
     "output_type": "execute_result"
    },
    {
     "data": {
      "image/png": "[encoded data removed]",
      "text/plain": [
       "<Figure size 640x480 with 1 Axes>"
      ]
     },
     "metadata": {},
     "output_type": "display_data"
    }
   ],
   "source": [
    "# plot histogram of meanings and how often short of long messages are used\n",
    "sns.histplot(data=logs, x='meaning', hue='message_length', multiple='dodge', shrink=.2)"
   ]
  },
  {
   "cell_type": "code",
   "execution_count": 59,
   "metadata": {},
   "outputs": [],
   "source": [
    "logs_comb = pd.concat([pd.DataFrame(k).T[20:] for k in logs_comp]).reset_index(drop=True)"
   ]
  },
  {
   "cell_type": "code",
   "execution_count": 60,
   "metadata": {},
   "outputs": [],
   "source": [
    "logs_comb['message_length'] = logs_comb['message'].apply(lambda x: 'short' if x == 0 else 'long')\n",
    "logs_comb['meaning_s'] = logs_comb['meaning'].apply(lambda x: f'm_{x}')"
   ]
  },
  {
   "cell_type": "code",
   "execution_count": 61,
   "metadata": {},
   "outputs": [
    {
     "data": {
      "text/plain": [
       "<AxesSubplot: xlabel='meaning_s', ylabel='Count'>"
      ]
     },
     "execution_count": 61,
     "metadata": {},
     "output_type": "execute_result"
    },
    {
     "data": {
      "image/png": "[encoded data removed]",
      "text/plain": [
       "<Figure size 640x480 with 1 Axes>"
      ]
     },
     "metadata": {},
     "output_type": "display_data"
    }
   ],
   "source": [
    "# plot histogram of meanings and how often short of long messages are used\n",
    "sns.histplot(data=logs_comb, x='meaning_s', hue='message_length', multiple='dodge', shrink=.2)"
   ]
  }
 ],
 "metadata": {
  "kernelspec": {
   "display_name": "Python 3",
   "language": "python",
   "name": "python3"
  },
  "language_info": {
   "codemirror_mode": {
    "name": "ipython",
    "version": 3
   },
   "file_extension": ".py",
   "mimetype": "text/x-python",
   "name": "python",
   "nbconvert_exporter": "python",
   "pygments_lexer": "ipython3",
   "version": "3.10.10"
  },
  "orig_nbformat": 4
 },
 "nbformat": 4,
 "nbformat_minor": 2
}
