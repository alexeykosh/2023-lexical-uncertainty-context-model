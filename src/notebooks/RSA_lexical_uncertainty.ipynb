{
 "cells": [
  {
   "cell_type": "code",
   "execution_count": 104,
   "metadata": {},
   "outputs": [],
   "source": [
    "import numpy as np\n",
    "import matplotlib.pyplot as plt\n",
    "import pandas as pd\n",
    "from collections import defaultdict"
   ]
  },
  {
   "cell_type": "code",
   "execution_count": 24,
   "metadata": {},
   "outputs": [],
   "source": [
    "def safelog(vals):\n",
    "    return np.log(np.maximum(vals, 1e-10))\n",
    "    \n",
    "def normalize(vals):\n",
    "    return vals / np.sum(vals, axis=1, keepdims=True)\n",
    "\n",
    "def generate_lexicons(n_words, n_meanings):\n",
    "        arrays =  np.array([list(map(int, list(np.binary_repr(i, width=n_words*n_meanings)))) \n",
    "                            for i in range(2**(n_words*n_meanings))])\n",
    "        lexicons = arrays.reshape((2**(n_words*n_meanings), n_words, n_meanings))\n",
    "        return lexicons[lexicons.sum(axis=1).min(axis=1) > 0]"
   ]
  },
  {
   "cell_type": "code",
   "execution_count": 25,
   "metadata": {},
   "outputs": [],
   "source": [
    "class BaseRSA:\n",
    "    def __init__(self, alpha, prior, C, contexts):\n",
    "        self.contexts = contexts\n",
    "        self.alpha = alpha\n",
    "        self.prior = prior\n",
    "        self.C = C\n",
    "\n",
    "    @staticmethod\n",
    "    def safelog(vals):\n",
    "        with np.errstate(divide='ignore'):\n",
    "            return np.log(vals)\n",
    "\n",
    "    @staticmethod\n",
    "    def normalize(vals):\n",
    "        return np.nan_to_num(vals / np.sum(vals, axis=-1, keepdims=True))\n",
    "    \n",
    "    def L_0(self, L, c):\n",
    "        return self.normalize(L * self.prior * self.contexts[c])\n",
    "    \n",
    "    def S_p(self, L, c):\n",
    "        return self.normalize(np.exp(self.alpha * (self.safelog(self.L_0(L, c).transpose(0, 2, 1)) - self.C)))\n",
    "    \n",
    "    def L_p(self, L, c):\n",
    "        return self.normalize(self.S_p(L, c).transpose(0, 2, 1) * self.prior * self.contexts[c])\n",
    "\n",
    "class Agent(BaseRSA):\n",
    "    def __init__(self, alpha, prior, C, n_words, n_meanings, contexts):\n",
    "        super().__init__(alpha, prior, C, contexts)\n",
    "        self.Lexicons = generate_lexicons(n_words, n_meanings)\n",
    "        self.prob_lexicon = np.ones(len(self.Lexicons)) / len(self.Lexicons)\n",
    "        self.n_words = n_words\n",
    "        self.n_meanings = n_meanings\n",
    "    \n",
    "    def speaker(self, m, c):\n",
    "        # index of the lexicon with the highest probability given prob_lexicon\n",
    "        lexicon_idx = np.random.choice(np.arange(len(self.Lexicons)), p=self.prob_lexicon)\n",
    "        return self.S_p(self.Lexicons, c)[lexicon_idx][m].argmax()\n",
    "    \n",
    "    def listener(self, w, c):\n",
    "        # index of the lexicon with the highest probability given prob_lexicon\n",
    "        lexicon_idx = np.random.choice(np.arange(len(self.Lexicons)), p=self.prob_lexicon)\n",
    "        return self.L_p(self.Lexicons, c)[lexicon_idx][w].argmax()\n",
    "    \n",
    "    def update(self, w, m, c):\n",
    "        self.prob_lexicon = self.normalize(self.L_p(self.Lexicons, c)[:, w, m] * self.prob_lexicon)\n",
    "        # update prob_lexicon using L_0\n",
    "        # self.prob_lexicon = self.normalize(self.L_0(self.Lexicons, c)[:, w, m] * self.prob_lexicon)"
   ]
  },
  {
   "cell_type": "code",
   "execution_count": 95,
   "metadata": {},
   "outputs": [],
   "source": [
    "prior = np.array([0.1, 0.45, 0.45])\n",
    "alpha = 0.1\n",
    "C = np.array([0, 20])\n",
    "contexts = np.array([[1, 1, 0], [1, 0, 1]])"
   ]
  },
  {
   "cell_type": "code",
   "execution_count": 103,
   "metadata": {},
   "outputs": [],
   "source": [
    "def one_round(a, b, m, c):\n",
    "    w = a.speaker(m, c)\n",
    "    g = b.listener(w, c)\n",
    "    if m == g:\n",
    "        a.update(w, m, c)\n",
    "        b.update(w, m, c)\n",
    "    return m == g, w, g"
   ]
  },
  {
   "cell_type": "code",
   "execution_count": 97,
   "metadata": {},
   "outputs": [
    {
     "name": "stderr",
     "output_type": "stream",
     "text": [
      "/var/folders/1c/pphtjl397rnbdcp94xmwzkqr0000gn/T/ipykernel_37194/1869911606.py:15: RuntimeWarning: invalid value encountered in divide\n",
      "  return np.nan_to_num(vals / np.sum(vals, axis=-1, keepdims=True))\n"
     ]
    }
   ],
   "source": [
    "posteriors = []\n",
    "logs = defaultdict(lambda: defaultdict(dict))\n",
    "\n",
    "for t in range(100):\n",
    "    a = Agent(alpha, prior, C, 2, 3, contexts)\n",
    "    b = Agent(alpha, prior, C, 2, 3, contexts)\n",
    "\n",
    "    for _ in range(100):\n",
    "        m = np.random.choice([0, 2])\n",
    "        logs[t][_]['meaning'] = m\n",
    "        # if meaning is 0, context is either 0 or 1, if 1, context is 0, if 2 context is 1\n",
    "        c = np.random.choice([0, 1]) if m == 0 else m - 1\n",
    "        logs[t][_]['context'] = c\n",
    "        if _ % 2 == 0:\n",
    "            tr, w, g = one_round(a, b, m, c)\n",
    "            logs[t][_]['word'] = w\n",
    "            logs[t][_]['guess'] = g\n",
    "            logs[t][_]['correct'] = 'True' if tr else 'False'\n",
    "        else:\n",
    "            tr, w, g = one_round(b, a, m, c)\n",
    "            logs[t][_]['word'] = w\n",
    "            logs[t][_]['guess'] = g\n",
    "            logs[t][_]['correct'] = 'True' if tr else 'False'\n",
    "\n",
    "    posteriors.append(a.prob_lexicon)\n",
    "    posteriors.append(b.prob_lexicon)"
   ]
  },
  {
   "cell_type": "code",
   "execution_count": 98,
   "metadata": {},
   "outputs": [],
   "source": [
    "posteriors = np.sum(posteriors, axis=0)\n",
    "posteriors = posteriors / np.sum(posteriors)"
   ]
  },
  {
   "cell_type": "code",
   "execution_count": 99,
   "metadata": {},
   "outputs": [
    {
     "data": {
      "image/png": "[encoded data removed]",
      "text/plain": [
       "<Figure size 640x480 with 1 Axes>"
      ]
     },
     "metadata": {},
     "output_type": "display_data"
    }
   ],
   "source": [
    "# plot the posterior distribution of the lexicons\n",
    "plt.bar(np.arange(len(posteriors)), posteriors)\n",
    "plt.show()"
   ]
  },
  {
   "cell_type": "code",
   "execution_count": 100,
   "metadata": {},
   "outputs": [
    {
     "name": "stdout",
     "output_type": "stream",
     "text": [
      "[[0 1 1]\n",
      " [1 0 0]]\n"
     ]
    }
   ],
   "source": [
    "# get the lexicon with the highest probability\n",
    "lexicon_idx = np.argmax(posteriors)\n",
    "print(a.Lexicons[lexicon_idx])"
   ]
  },
  {
   "cell_type": "code",
   "execution_count": 101,
   "metadata": {},
   "outputs": [
    {
     "name": "stdout",
     "output_type": "stream",
     "text": [
      "[[0 1 1]\n",
      " [1 0 0]]\n",
      "[[1 0 1]\n",
      " [1 1 0]]\n"
     ]
    }
   ],
   "source": [
    "# print top 4 lexicons in the posterior distribution\n",
    "for i in np.argsort(posteriors)[::-1][:2]:\n",
    "    print(a.Lexicons[i])"
   ]
  },
  {
   "cell_type": "code",
   "execution_count": 102,
   "metadata": {},
   "outputs": [
    {
     "data": {
      "text/html": [
       "<div>\n",
       "<style scoped>\n",
       "    .dataframe tbody tr th:only-of-type {\n",
       "        vertical-align: middle;\n",
       "    }\n",
       "\n",
       "    .dataframe tbody tr th {\n",
       "        vertical-align: top;\n",
       "    }\n",
       "\n",
       "    .dataframe thead th {\n",
       "        text-align: right;\n",
       "    }\n",
       "</style>\n",
       "<table border=\"1\" class=\"dataframe\">\n",
       "  <thead>\n",
       "    <tr style=\"text-align: right;\">\n",
       "      <th></th>\n",
       "      <th>m1</th>\n",
       "      <th>m2</th>\n",
       "      <th>m3</th>\n",
       "      <th>costs</th>\n",
       "    </tr>\n",
       "  </thead>\n",
       "  <tbody>\n",
       "    <tr>\n",
       "      <th>w1</th>\n",
       "      <td>0.0</td>\n",
       "      <td>1.00</td>\n",
       "      <td>1.00</td>\n",
       "      <td>0</td>\n",
       "    </tr>\n",
       "    <tr>\n",
       "      <th>w2</th>\n",
       "      <td>1.0</td>\n",
       "      <td>0.00</td>\n",
       "      <td>0.00</td>\n",
       "      <td>20</td>\n",
       "    </tr>\n",
       "    <tr>\n",
       "      <th>prior</th>\n",
       "      <td>0.1</td>\n",
       "      <td>0.45</td>\n",
       "      <td>0.45</td>\n",
       "      <td>0</td>\n",
       "    </tr>\n",
       "  </tbody>\n",
       "</table>\n",
       "</div>"
      ],
      "text/plain": [
       "        m1    m2    m3  costs\n",
       "w1     0.0  1.00  1.00      0\n",
       "w2     1.0  0.00  0.00     20\n",
       "prior  0.1  0.45  0.45      0"
      ]
     },
     "execution_count": 102,
     "metadata": {},
     "output_type": "execute_result"
    }
   ],
   "source": [
    "df = pd.DataFrame(a.Lexicons[lexicon_idx], columns=['m1', 'm2', 'm3'], index=['w1', 'w2'])\n",
    "# add row with prior\n",
    "df.loc['prior'] = prior\n",
    "# add column with costs (account for one new row)\n",
    "df['costs'] = np.append(C, 0)\n",
    "\n",
    "df"
   ]
  },
  {
   "cell_type": "code",
   "execution_count": null,
   "metadata": {},
   "outputs": [],
   "source": []
  }
 ],
 "metadata": {
  "kernelspec": {
   "display_name": "colex-model",
   "language": "python",
   "name": "python3"
  },
  "language_info": {
   "codemirror_mode": {
    "name": "ipython",
    "version": 3
   },
   "file_extension": ".py",
   "mimetype": "text/x-python",
   "name": "python",
   "nbconvert_exporter": "python",
   "pygments_lexer": "ipython3",
   "version": "3.10.9"
  },
  "orig_nbformat": 4
 },
 "nbformat": 4,
 "nbformat_minor": 2
}
