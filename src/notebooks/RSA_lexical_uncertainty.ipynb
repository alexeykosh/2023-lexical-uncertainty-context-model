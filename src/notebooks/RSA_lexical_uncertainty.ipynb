{
 "cells": [
  {
   "cell_type": "code",
   "execution_count": 252,
   "metadata": {},
   "outputs": [],
   "source": [
    "import numpy as np\n",
    "import matplotlib.pyplot as plt\n",
    "import pandas as pd"
   ]
  },
  {
   "cell_type": "code",
   "execution_count": 253,
   "metadata": {},
   "outputs": [],
   "source": [
    "def safelog(vals):\n",
    "    return np.log(np.maximum(vals, 1e-10))\n",
    "    \n",
    "def normalize(vals):\n",
    "    return vals / np.sum(vals, axis=1, keepdims=True)\n",
    "\n",
    "def generate_lexicons(n_words, n_meanings):\n",
    "        arrays =  np.array([list(map(int, list(np.binary_repr(i, width=n_words*n_meanings)))) \n",
    "                            for i in range(2**(n_words*n_meanings))])\n",
    "        lexicons = arrays.reshape((2**(n_words*n_meanings), n_words, n_meanings))\n",
    "        return lexicons[lexicons.sum(axis=1).min(axis=1) > 0]"
   ]
  },
  {
   "cell_type": "code",
   "execution_count": 317,
   "metadata": {},
   "outputs": [],
   "source": [
    "class BaseRSA:\n",
    "    def __init__(self, alpha, prior, C):\n",
    "        self.alpha = alpha\n",
    "        self.prior = prior\n",
    "        self.C = C\n",
    "\n",
    "    @staticmethod\n",
    "    def safelog(vals):\n",
    "        with np.errstate(divide='ignore'):\n",
    "            return np.log(vals)\n",
    "\n",
    "    @staticmethod\n",
    "    def normalize(vals):\n",
    "        return np.nan_to_num(vals / np.sum(vals, axis=-1, keepdims=True))\n",
    "    \n",
    "    def L_0(self, L):\n",
    "        return self.normalize(L * self.prior)\n",
    "    \n",
    "    def S_p(self, L):\n",
    "        return self.normalize(np.exp(self.alpha * (self.safelog(self.L_0(L).transpose(0, 2, 1)) - self.C)))\n",
    "    \n",
    "    def L_p(self, L):\n",
    "        return self.normalize(self.S_p(L).transpose(0, 2, 1) * self.prior)\n",
    "\n",
    "class Agent(BaseRSA):\n",
    "    def __init__(self, alpha, prior, C, n_words, n_meanings):\n",
    "        super().__init__(alpha, prior, C)\n",
    "        self.Lexicons = generate_lexicons(n_words, n_meanings)\n",
    "        self.prob_lexicon = np.ones(len(self.Lexicons)) / len(self.Lexicons)\n",
    "        self.n_words = n_words\n",
    "        self.n_meanings = n_meanings\n",
    "    \n",
    "    def speaker(self, m):\n",
    "        # index of the lexicon with the highest probability given prob_lexicon\n",
    "        lexicon_idx = np.random.choice(np.arange(len(self.Lexicons)), p=self.prob_lexicon)\n",
    "        return self.S_p(self.Lexicons)[lexicon_idx][m].argmax()\n",
    "    \n",
    "    def listener(self, w):\n",
    "        # index of the lexicon with the highest probability given prob_lexicon\n",
    "        lexicon_idx = np.random.choice(np.arange(len(self.Lexicons)), p=self.prob_lexicon)\n",
    "        return self.L_p(self.Lexicons)[lexicon_idx][w].argmax()\n",
    "    \n",
    "    def update(self, w, m):\n",
    "        self.prob_lexicon = self.normalize(self.L_p(self.Lexicons)[:, w, m] * self.prob_lexicon) + 1e-10"
   ]
  },
  {
   "cell_type": "code",
   "execution_count": 318,
   "metadata": {},
   "outputs": [],
   "source": [
    "prior = np.array([0.9, 0.1])\n",
    "alpha = 5\n",
    "C = np.array([0, 10])"
   ]
  },
  {
   "cell_type": "code",
   "execution_count": 319,
   "metadata": {},
   "outputs": [],
   "source": [
    "def one_round(a, b, m):\n",
    "    w = a.speaker(m)\n",
    "    g = b.listener(w)\n",
    "    if m == g:\n",
    "        a.update(w, m)\n",
    "        b.update(w, m)"
   ]
  },
  {
   "cell_type": "code",
   "execution_count": 320,
   "metadata": {},
   "outputs": [
    {
     "name": "stderr",
     "output_type": "stream",
     "text": [
      "/var/folders/1c/pphtjl397rnbdcp94xmwzkqr0000gn/T/ipykernel_35761/675949791.py:14: RuntimeWarning: invalid value encountered in divide\n",
      "  return np.nan_to_num(vals / np.sum(vals, axis=-1, keepdims=True))\n"
     ]
    }
   ],
   "source": [
    "a = Agent(alpha, prior, C, 2, 2)\n",
    "b = Agent(alpha, prior, C, 2, 2)\n",
    "\n",
    "posteriors = []\n",
    "\n",
    "for _ in range(100):\n",
    "    m = np.random.choice([0, 1])\n",
    "    if _ % 2 == 0:\n",
    "        one_round(a, b, m)\n",
    "    else:\n",
    "        one_round(b, a, m)\n",
    "\n",
    "posteriors.append(a.prob_lexicon)\n",
    "posteriors.append(b.prob_lexicon)\n"
   ]
  },
  {
   "cell_type": "code",
   "execution_count": 321,
   "metadata": {},
   "outputs": [
    {
     "data": {
      "image/png": "[encoded data removed]",
      "text/plain": [
       "<Figure size 1000x500 with 2 Axes>"
      ]
     },
     "metadata": {},
     "output_type": "display_data"
    }
   ],
   "source": [
    "fig, ax = plt.subplots(1, 2, figsize=(10, 5))\n",
    "for i, p in enumerate(posteriors):\n",
    "    ax[i].bar(np.arange(len(p)), p)\n",
    "    ax[i].set_title(f'Agent {i+1}')\n",
    "    ax[i].set_xlabel('Lexicon')\n",
    "    ax[i].set_ylabel('Posterior probability')"
   ]
  },
  {
   "cell_type": "code",
   "execution_count": 322,
   "metadata": {},
   "outputs": [
    {
     "name": "stdout",
     "output_type": "stream",
     "text": [
      "[[1 0]\n",
      " [0 1]]\n"
     ]
    }
   ],
   "source": [
    "# get the lexicon with the highest probability\n",
    "lexicon_idx = np.random.choice(np.arange(len(a.Lexicons)), p=a.prob_lexicon)\n",
    "print(a.Lexicons[lexicon_idx])"
   ]
  },
  {
   "cell_type": "code",
   "execution_count": 323,
   "metadata": {},
   "outputs": [
    {
     "data": {
      "text/html": [
       "<div>\n",
       "<style scoped>\n",
       "    .dataframe tbody tr th:only-of-type {\n",
       "        vertical-align: middle;\n",
       "    }\n",
       "\n",
       "    .dataframe tbody tr th {\n",
       "        vertical-align: top;\n",
       "    }\n",
       "\n",
       "    .dataframe thead th {\n",
       "        text-align: right;\n",
       "    }\n",
       "</style>\n",
       "<table border=\"1\" class=\"dataframe\">\n",
       "  <thead>\n",
       "    <tr style=\"text-align: right;\">\n",
       "      <th></th>\n",
       "      <th>m1</th>\n",
       "      <th>m2</th>\n",
       "      <th>costs</th>\n",
       "    </tr>\n",
       "  </thead>\n",
       "  <tbody>\n",
       "    <tr>\n",
       "      <th>w1</th>\n",
       "      <td>1.0</td>\n",
       "      <td>0.0</td>\n",
       "      <td>0</td>\n",
       "    </tr>\n",
       "    <tr>\n",
       "      <th>w2</th>\n",
       "      <td>0.0</td>\n",
       "      <td>1.0</td>\n",
       "      <td>10</td>\n",
       "    </tr>\n",
       "    <tr>\n",
       "      <th>prior</th>\n",
       "      <td>0.9</td>\n",
       "      <td>0.1</td>\n",
       "      <td>0</td>\n",
       "    </tr>\n",
       "  </tbody>\n",
       "</table>\n",
       "</div>"
      ],
      "text/plain": [
       "        m1   m2  costs\n",
       "w1     1.0  0.0      0\n",
       "w2     0.0  1.0     10\n",
       "prior  0.9  0.1      0"
      ]
     },
     "execution_count": 323,
     "metadata": {},
     "output_type": "execute_result"
    }
   ],
   "source": [
    "df = pd.DataFrame(a.Lexicons[lexicon_idx], columns=['m1', 'm2'], index=['w1', 'w2'])\n",
    "# add row with prior\n",
    "df.loc['prior'] = prior\n",
    "# add column with costs (account for one new row)\n",
    "df['costs'] = np.append(C, 0)\n",
    "\n",
    "df"
   ]
  },
  {
   "cell_type": "code",
   "execution_count": null,
   "metadata": {},
   "outputs": [],
   "source": []
  }
 ],
 "metadata": {
  "kernelspec": {
   "display_name": "colex-model",
   "language": "python",
   "name": "python3"
  },
  "language_info": {
   "codemirror_mode": {
    "name": "ipython",
    "version": 3
   },
   "file_extension": ".py",
   "mimetype": "text/x-python",
   "name": "python",
   "nbconvert_exporter": "python",
   "pygments_lexer": "ipython3",
   "version": "3.10.9"
  },
  "orig_nbformat": 4
 },
 "nbformat": 4,
 "nbformat_minor": 2
}
