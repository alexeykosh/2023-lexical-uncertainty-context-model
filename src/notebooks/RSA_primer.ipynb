{
 "cells": [
  {
   "cell_type": "code",
   "execution_count": 338,
   "metadata": {},
   "outputs": [],
   "source": [
    "import numpy as np\n",
    "from IPython.display import display, HTML"
   ]
  },
  {
   "attachments": {},
   "cell_type": "markdown",
   "metadata": {},
   "source": [
    "Slides by C. Potts with the description of the RSA: https://web.stanford.edu/class/linguist130a/screencasts/130a-screencast-rsa.pdf"
   ]
  },
  {
   "cell_type": "code",
   "execution_count": 339,
   "metadata": {},
   "outputs": [],
   "source": [
    "def display_table(table, row_labels, col_labels):\n",
    "    '''\n",
    "    Function that displays a table in HTML.\n",
    "    '''\n",
    "    html = \"<table>\"\n",
    "    html += \"<tr><th></th><th>\" + \"</th><th>\".join(col_labels) + \"</th></tr>\"\n",
    "    for i, row in enumerate(table):\n",
    "        html += \"<tr><th>\" + row_labels[i] + \"</th><td>\" + \"</td><td>\".join(map(str, row)) + \"</td></tr>\"\n",
    "    html += \"</table>\"\n",
    "    display(HTML(html))\n",
    "\n",
    "def safelog(vals):\n",
    "    with np.errstate(divide='ignore'):\n",
    "        return np.log(vals)\n",
    "\n",
    "def normalize(A):\n",
    "    '''\n",
    "    Noramlizes a matrix so that the sum of each row is 1.\n",
    "    '''\n",
    "    # return (A.T / A.sum(axis=1)).T\n",
    "    return A / A.sum(axis=1, keepdims=True)"
   ]
  },
  {
   "cell_type": "code",
   "execution_count": 340,
   "metadata": {},
   "outputs": [],
   "source": [
    "### RSA ###\n",
    "\n",
    "def l_lit(A):\n",
    "    '''\n",
    "    Literal listener: normalizes the defined lexicon\n",
    "    '''\n",
    "    return normalize(A * prior)\n",
    "\n",
    "def s_prag(A):\n",
    "    '''\n",
    "    Literal speaker: subtract cost from the defined lexicon\n",
    "    '''\n",
    "    return normalize(np.exp(alpha * (safelog(A.T) + C)))\n",
    "\n",
    "def l_prag(A):\n",
    "    '''\n",
    "    Pragmatic listener: normalizes the defined lexicon receiver from the pragmatic speaker\n",
    "    '''\n",
    "    return normalize(A.T * prior)"
   ]
  },
  {
   "cell_type": "code",
   "execution_count": 341,
   "metadata": {},
   "outputs": [],
   "source": [
    "meanings = np.array([[0, 1], [1, 1]]) # the lexicon\n",
    "C = np.array([0, 0]) # costs of messages \n",
    "prior = np.array([0.5, 0.5]) # prior over meanings\n",
    "alpha = 1. # pragmatic reasoning strength\n",
    "n_r = meanings.shape[0] # number of meanings\n",
    "n_s = meanings.shape[1] # number of messages"
   ]
  },
  {
   "attachments": {},
   "cell_type": "markdown",
   "metadata": {},
   "source": [
    "The initial conditions are the following: \n",
    "\n",
    "| | r_1 | r_2 |\n",
    "|---|---|---|\n",
    "|s_1 (hat) | 0| 1| \n",
    "|s_2 (glasses) | 1| 1| \n",
    "\n",
    "'Hat' corresponds to the referent 2, while if someone says 'glasses' it corresponds to both referents 1 and 2.\n"
   ]
  },
  {
   "cell_type": "code",
   "execution_count": 342,
   "metadata": {},
   "outputs": [
    {
     "name": "stdout",
     "output_type": "stream",
     "text": [
      "### Lexicon initial ###\n"
     ]
    },
    {
     "data": {
      "text/html": [
       "<table><tr><th></th><th>r_1</th><th>r_2</th><th>C</th></tr><tr><th>s_1</th><td>0</td><td>1</td><td>0</td></tr><tr><th>s_2</th><td>1</td><td>1</td><td>0</td></tr></table>"
      ],
      "text/plain": [
       "<IPython.core.display.HTML object>"
      ]
     },
     "metadata": {},
     "output_type": "display_data"
    },
    {
     "name": "stdout",
     "output_type": "stream",
     "text": [
      "### Priors ###\n"
     ]
    },
    {
     "data": {
      "text/html": [
       "<table><tr><th></th><th>s_1</th><th>s_2</th></tr><tr><th>p(s)</th><td>0.3</td><td>0.7</td></tr></table>"
      ],
      "text/plain": [
       "<IPython.core.display.HTML object>"
      ]
     },
     "metadata": {},
     "output_type": "display_data"
    }
   ],
   "source": [
    "# display meanings, but also add costs as a column and prior as a row\n",
    "print('### Lexicon initial ###')\n",
    "display_table(np.hstack([meanings, C[:, None]]), [f's_{i + 1}' for i in range(n_s)], [f'r_{i + 1}' for i in range(n_s)] + [\"C\"])\n",
    "print('### Priors ###')\n",
    "display_table(prior[None, :], [\"p(s)\"], [f's_{i + 1}' for i in range(n_s)])"
   ]
  },
  {
   "cell_type": "code",
   "execution_count": 343,
   "metadata": {},
   "outputs": [
    {
     "name": "stdout",
     "output_type": "stream",
     "text": [
      "### Litteral listener ###\n"
     ]
    },
    {
     "data": {
      "text/html": [
       "<table><tr><th></th><th>r_1</th><th>r_2</th><th>C</th></tr><tr><th>s_1</th><td>0.0</td><td>1.0</td><td>0.0</td></tr><tr><th>s_2</th><td>0.3</td><td>0.7</td><td>0.0</td></tr></table>"
      ],
      "text/plain": [
       "<IPython.core.display.HTML object>"
      ]
     },
     "metadata": {},
     "output_type": "display_data"
    }
   ],
   "source": [
    "print('### Litteral listener ###')\n",
    "display_table(np.hstack([l_lit(meanings), C[:, None]]), [f's_{i + 1}' for i in range(n_s)], [f'r_{i + 1}' for i in range(n_s)] + [\"C\"])"
   ]
  },
  {
   "cell_type": "code",
   "execution_count": 344,
   "metadata": {},
   "outputs": [
    {
     "name": "stdout",
     "output_type": "stream",
     "text": [
      "### Pragmatic speaker ###\n"
     ]
    },
    {
     "data": {
      "text/html": [
       "<table><tr><th></th><th>s_1</th><th>s_2</th></tr><tr><th>r_1</th><td>0.0</td><td>1.0</td></tr><tr><th>r_2</th><td>0.59</td><td>0.41</td></tr></table>"
      ],
      "text/plain": [
       "<IPython.core.display.HTML object>"
      ]
     },
     "metadata": {},
     "output_type": "display_data"
    },
    {
     "name": "stdout",
     "output_type": "stream",
     "text": [
      "### NB: the matrix is transposed, since the speakers probability is p(s | r) ###\n"
     ]
    }
   ],
   "source": [
    "print('### Pragmatic speaker ###')\n",
    "display_table(np.hstack([np.round(s_prag(l_lit(meanings)), 2)]), [f'r_{i + 1}' for i in range(n_s)] + [\"C\"], [f's_{i + 1}' for i in range(n_s)])\n",
    "print('### NB: the matrix is transposed, since the speakers probability is p(s | r) ###')"
   ]
  },
  {
   "cell_type": "code",
   "execution_count": 345,
   "metadata": {},
   "outputs": [
    {
     "name": "stdout",
     "output_type": "stream",
     "text": [
      "### Pragmatic listener ###\n"
     ]
    },
    {
     "data": {
      "text/html": [
       "<table><tr><th></th><th>r_1</th><th>r_2</th><th>C</th></tr><tr><th>s_1</th><td>0.0</td><td>1.0</td><td>0.0</td></tr><tr><th>s_2</th><td>0.51</td><td>0.49</td><td>0.0</td></tr></table>"
      ],
      "text/plain": [
       "<IPython.core.display.HTML object>"
      ]
     },
     "metadata": {},
     "output_type": "display_data"
    },
    {
     "name": "stdout",
     "output_type": "stream",
     "text": [
      "### Prior ###\n"
     ]
    },
    {
     "data": {
      "text/html": [
       "<table><tr><th></th><th>s_1</th><th>s_2</th></tr><tr><th>p(s)</th><td>0.3</td><td>0.7</td></tr></table>"
      ],
      "text/plain": [
       "<IPython.core.display.HTML object>"
      ]
     },
     "metadata": {},
     "output_type": "display_data"
    }
   ],
   "source": [
    "meanings_upd = l_prag(s_prag(l_lit(meanings))) # RSA reasoning\n",
    "\n",
    "print('### Pragmatic listener ###')\n",
    "display_table(np.hstack([np.round(meanings_upd, 2), C[:, None]]), [f's_{i + 1}' for i in range(n_s)], [f'r_{i + 1}' for i in range(n_s)] + [\"C\"])\n",
    "print('### Prior ###')\n",
    "display_table(prior[None, :], [\"p(s)\"], [f's_{i + 1}' for i in range(n_s)])"
   ]
  }
 ],
 "metadata": {
  "kernelspec": {
   "display_name": "Python 3",
   "language": "python",
   "name": "python3"
  },
  "language_info": {
   "codemirror_mode": {
    "name": "ipython",
    "version": 3
   },
   "file_extension": ".py",
   "mimetype": "text/x-python",
   "name": "python",
   "nbconvert_exporter": "python",
   "pygments_lexer": "ipython3",
   "version": "3.10.10"
  },
  "orig_nbformat": 4
 },
 "nbformat": 4,
 "nbformat_minor": 2
}
